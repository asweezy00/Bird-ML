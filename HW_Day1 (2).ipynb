{
 "cells": [
  {
   "cell_type": "markdown",
   "metadata": {
    "colab_type": "text",
    "id": "F61NHkQoLry9"
   },
   "source": [
    "#Homework One\n",
    "\n",
    "This notebook is meant to give you an introduction to some of the features of Jupyter Notebooks, and give you a chance to run a machine learning task of your own.  I will have already run this program in class -- your job is to get it to work for you.  In the future, you may work with other students in the class in a group.  Today, however, you must run this program on your own, so you know how to carry out all the steps.  You should save a copy of this program to your own google drive.  Your first assignment is to delete this paragraph and write your own name into this cell."
   ]
  },
  {
   "cell_type": "markdown",
   "metadata": {
    "colab_type": "text",
    "id": "4rYv0jET32_h"
   },
   "source": [
    "# Reading Assignment\n",
    "\n",
    "You should read <a href=https://livebook.manning.com/book/deep-learning-with-python/chapter-1/>Chapter 1</a> of Francois Chollet's <i>Deep Learning With Python</i>.  This will give you an overview of what it's all about."
   ]
  },
  {
   "cell_type": "markdown",
   "metadata": {
    "colab_type": "text",
    "id": "j1VpEVwoMOwy"
   },
   "source": [
    "# Your First Deep Learning Code\n",
    "\n",
    "The rest of this notebook will consist of code cells that you should run, interspersed with text cells that will ask you questions and give you assignments.  You will have to make changes and give your understanding of\n",
    "what you think the program is doing.\n",
    "\n",
    "## Setting things up\n",
    "\n",
    "But first, we need to install some libraries that the code will need to access.\n",
    "Run the following code block by either hitting \"shift-return\" or clicking on the \"triangle in the circle\" icon to the left of the code.  This will install a library called greentree, and then import it into the python code."
   ]
  },
  {
   "cell_type": "code",
   "execution_count": null,
   "metadata": {
    "colab": {},
    "colab_type": "code",
    "id": "kJ5jfsqSbuEQ"
   },
   "outputs": [],
   "source": [
    "!pip install git+https://github.com/williamedwardhahn/greentree\n",
    "from greentree import *"
   ]
  },
  {
   "cell_type": "markdown",
   "metadata": {
    "colab_type": "text",
    "id": "LAlUg7k4M_5K"
   },
   "source": [
    "The main thrust of this activity is to have the computer learn how to sort between multiple possible labels for an image.  The example here is to have it tell the difference between an orange, an apple, and a banana.  \n",
    "\n",
    "For the next code block, you should replace the three fruit names with some set of search terms.  This could be anything you could imagine entering into a Google Image Search.  I've tried dog breed names, architectural terms... anything where you could imagine pointing at an image and saying \"that's a [whatever]!\" \n",
    "\n",
    "You may use as many terms as you like (there are three below -- the example in class had four), but there should be at least two.  I don't recommend going beyond four, today.  The more you use the longer this will take."
   ]
  },
  {
   "cell_type": "code",
   "execution_count": null,
   "metadata": {
    "colab": {},
    "colab_type": "code",
    "id": "0aomyZKn_o9f"
   },
   "outputs": [],
   "source": [
    "s = [\"orange\", \"apple\", \"banana\"]"
   ]
  },
  {
   "cell_type": "markdown",
   "metadata": {
    "colab_type": "text",
    "id": "Eh1a-YSaNj7T"
   },
   "source": [
    "# Pull the Training Images from Google\n",
    "\n",
    "Run the next block, and then see the text block for instructions."
   ]
  },
  {
   "cell_type": "code",
   "execution_count": null,
   "metadata": {
    "colab": {},
    "colab_type": "code",
    "id": "I2dKY6Aw_iKQ"
   },
   "outputs": [],
   "source": [
    "[get_images(s[i], limit = 100) for i in np.arange(len(s))]\n",
    "remove_transparency_list(\"/content/image_set/\")\n",
    "split(\"/content/image_set/\")\n",
    "os.chdir(\"/content/\")\n",
    "data_dir = 'image_set'"
   ]
  },
  {
   "cell_type": "code",
   "execution_count": null,
   "metadata": {
    "colab": {},
    "colab_type": "code",
    "id": "AAsq5KrMH5np"
   },
   "outputs": [],
   "source": [
    "labels = data_show(data_dir,16)"
   ]
  },
  {
   "cell_type": "markdown",
   "metadata": {
    "colab_type": "text",
    "id": "nTrGg7E3OQRO"
   },
   "source": [
    "<font color=red>What happens if you change the number 16 to a 4 and run it again?</font>\n",
    "\n",
    "You should see a line of images.  Above that line of images should be a list of examples of the search terms you defined at the beginning of the program.\n",
    "<font color=red>What is the list at the top telling you about the images shown in the middle?</font>\n",
    "\n",
    "<font color=red>What can you learn from this code block?</font>\n",
    "\n",
    "<font color=red>What does the \"train\" number mean?</font>"
   ]
  },
  {
   "cell_type": "markdown",
   "metadata": {
    "colab_type": "text",
    "id": "JGZDtl0m4seB"
   },
   "source": [
    "# Train the Model"
   ]
  },
  {
   "cell_type": "code",
   "execution_count": null,
   "metadata": {
    "colab": {},
    "colab_type": "code",
    "id": "TPQ97n2IzXSb"
   },
   "outputs": [],
   "source": [
    "model = train_model(data_dir, num_epochs=5)"
   ]
  },
  {
   "cell_type": "markdown",
   "metadata": {
    "colab_type": "text",
    "id": "lDuhOJiSPWL0"
   },
   "source": [
    "This is the meat of the program.  \n",
    "\n",
    "<font color=red>Describe in your own words what this program block is doing:</font>\n",
    "\n",
    "<font color=red>What is the \"loss\" number telling you?</font>\n",
    "\n",
    "<font color=red>What is the \"acc\" number telling you?</font>\n",
    "\n",
    "<font color=red>What do you *want* to see these two numbers do, as the program works through the epochs?  Does your program do that?</font>"
   ]
  },
  {
   "cell_type": "code",
   "execution_count": null,
   "metadata": {
    "colab": {},
    "colab_type": "code",
    "id": "jK5197QYQMoF"
   },
   "outputs": [],
   "source": [
    "show_output(model,data_dir)"
   ]
  },
  {
   "cell_type": "markdown",
   "metadata": {
    "colab_type": "text",
    "id": "8nc8KSysQLd4"
   },
   "source": [
    "The previous block should give you a way to tell how well your program worked.\n",
    "\n",
    "<font color=red>How many predictions does it get right?</font>\n",
    "\n",
    "<font color=red>If it missed any, can you comment on why it might have missed?</font>"
   ]
  },
  {
   "cell_type": "markdown",
   "metadata": {
    "colab_type": "text",
    "id": "qyO0d8fO4xPU"
   },
   "source": [
    "# Evaluate Your Results"
   ]
  },
  {
   "cell_type": "markdown",
   "metadata": {
    "colab_type": "text",
    "id": "z7uFg4igQhRV"
   },
   "source": [
    "Now, you're going to put your program to work in the real world.  Find an image out there on the web somewhere that is relevant to the classification you just performed.  Put the URL for that image between the quote marks, below.  Make sure it plots the image you think it should.  Make sure this is NOT one of the images used in the training."
   ]
  },
  {
   "cell_type": "code",
   "execution_count": null,
   "metadata": {
    "colab": {},
    "colab_type": "code",
    "id": "I9YcXudRWHQN"
   },
   "outputs": [],
   "source": [
    "im = imageio.imread('http://1.bp.blogspot.com/--q1rQB2Y8Uo/VGi2JknCI2I/AAAAAAAAAB8/z_j8l2PRubo/s1600/Fruit%2BBasket%2B1.jpg')[:,:,:3]\n",
    "plot(im)"
   ]
  },
  {
   "cell_type": "markdown",
   "metadata": {
    "colab_type": "text",
    "id": "8c1N22CpRHfu"
   },
   "source": [
    "If you apply the model you've trained to your new image, it should pick one of your input categories as being the closest to what label should best match.  Run this and take note of the number."
   ]
  },
  {
   "cell_type": "code",
   "execution_count": null,
   "metadata": {
    "colab": {},
    "colab_type": "code",
    "id": "7K8HKJ5pGYZH"
   },
   "outputs": [],
   "source": [
    "inference(im,model)"
   ]
  },
  {
   "cell_type": "markdown",
   "metadata": {
    "colab_type": "text",
    "id": "-1DXAIRrRaL4"
   },
   "source": [
    "Now, that number relates to the labels you defined way back at the start of the program.  If you got a \"2\", that means the third label is what the computer has picked (it starts counting from zero).  Let's see!"
   ]
  },
  {
   "cell_type": "code",
   "execution_count": null,
   "metadata": {
    "colab": {},
    "colab_type": "code",
    "id": "ApQh6jBFWHRS"
   },
   "outputs": [],
   "source": [
    "labels[inference(im,model)]"
   ]
  },
  {
   "cell_type": "markdown",
   "metadata": {
    "colab_type": "text",
    "id": "7BeTpL9uRo7z"
   },
   "source": [
    "<font color=red>Comment on how well you think your program did:</font>\n"
   ]
  },
  {
   "cell_type": "markdown",
   "metadata": {
    "colab_type": "text",
    "id": "bKY_igktRyQ1"
   },
   "source": [
    "The following block is just a little function you can use to be dramatic.  If you give the function the URL for an image, it will display the image and print underneath it the label it thinks best matches the image.  Run the block to define the function, and then try passing it three examples of images to see how well it does."
   ]
  },
  {
   "cell_type": "code",
   "execution_count": null,
   "metadata": {
    "colab": {},
    "colab_type": "code",
    "id": "4nLKHbGCCrZv"
   },
   "outputs": [],
   "source": [
    "def label_image(url,show=True):\n",
    "    im = imageio.imread(url)[:,:,:3]\n",
    "    if show:\n",
    "        plot(im)\n",
    "    return labels[inference(im,model)]"
   ]
  },
  {
   "cell_type": "code",
   "execution_count": null,
   "metadata": {
    "colab": {},
    "colab_type": "code",
    "id": "zLLQUIlY7fk8"
   },
   "outputs": [],
   "source": [
    "label_image('http://1.bp.blogspot.com/--q1rQB2Y8Uo/VGi2JknCI2I/AAAAAAAAAB8/z_j8l2PRubo/s1600/Fruit%2BBasket%2B1.jpg')"
   ]
  },
  {
   "cell_type": "code",
   "execution_count": null,
   "metadata": {
    "colab": {},
    "colab_type": "code",
    "id": "oNzX1Y6_7oOj"
   },
   "outputs": [],
   "source": [
    "label_image('https://api.time.com/wp-content/uploads/2019/11/gettyimages-459761948.jpg')"
   ]
  },
  {
   "cell_type": "code",
   "execution_count": null,
   "metadata": {
    "colab": {},
    "colab_type": "code",
    "id": "jDmLfkux8AUw"
   },
   "outputs": [],
   "source": [
    "label_image('https://encrypted-tbn0.gstatic.com/images?q=tbn%3AANd9GcTKGvWFWaNYybFAHJe2scHZIwqvyDJhnRubBg&usqp=CAU')"
   ]
  },
  {
   "cell_type": "markdown",
   "metadata": {
    "colab_type": "text",
    "id": "VTsD2J8HSRMC"
   },
   "source": [
    "<font color=red>Write a paragraph here about what you learned from this activity, and what questions it raises in your mind that you would like to investigate further:</font>"
   ]
  },
  {
   "cell_type": "markdown",
   "metadata": {
    "colab_type": "text",
    "id": "QjInzUa042iR"
   },
   "source": [
    "# Submit your homework\n",
    "\n",
    "Once you are done answering the questions in red, above, save this jupyter notebook locally to your hard drive, and then upload it to the Assignment in Canvas."
   ]
  },
  {
   "cell_type": "code",
   "execution_count": null,
   "metadata": {
    "colab": {},
    "colab_type": "code",
    "id": "TaVqOoT55CtS"
   },
   "outputs": [],
   "source": []
  }
 ],
 "metadata": {
  "accelerator": "GPU",
  "colab": {
   "collapsed_sections": [],
   "name": "HW_Day1.ipynb",
   "provenance": [
    {
     "file_id": "1LA-6dXB1oaFYfw3q-B65y0-K8DTAcWqT",
     "timestamp": 1594312564213
    },
    {
     "file_id": "18xNXxPDXIosi5M8v6ZXKpjBRWG5DZZVy",
     "timestamp": 1594312112270
    },
    {
     "file_id": "1wpmtaY4JOGpuPSr0Lmu2l2Nyd2X4r_9P",
     "timestamp": 1593617169837
    },
    {
     "file_id": "1A9XgsaWwfpeVKKpyyt8GXD5Sgnioq7t3",
     "timestamp": 1593586480378
    },
    {
     "file_id": "1zj-R7yQjGsHxgISNdiN6o1jai0QIOuyN",
     "timestamp": 1593576472319
    },
    {
     "file_id": "1MIqguGIk4r_luDp9_D3mL_kax69F_5ip",
     "timestamp": 1593456891692
    },
    {
     "file_id": "11KP3pybaNwbH_zoQbSZbFanq8VcEummG",
     "timestamp": 1581143811130
    }
   ],
   "toc_visible": true
  },
  "kernelspec": {
   "display_name": "Python 3",
   "language": "python",
   "name": "python3"
  },
  "language_info": {
   "codemirror_mode": {
    "name": "ipython",
    "version": 3
   },
   "file_extension": ".py",
   "mimetype": "text/x-python",
   "name": "python",
   "nbconvert_exporter": "python",
   "pygments_lexer": "ipython3",
   "version": "3.7.4"
  }
 },
 "nbformat": 4,
 "nbformat_minor": 1
}
